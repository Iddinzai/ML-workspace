{
 "cells": [
  {
   "cell_type": "code",
   "execution_count": 15,
   "metadata": {},
   "outputs": [],
   "source": [
    "import pandas as pd\n",
    "import numpy as np\n",
    "import matplotlib.pyplot as plt\n",
    "import sklearn \n",
    "from  sklearn.model_selection import train_test_split\n",
    "from sklearn.ensemble import RandomForestClassifier\n",
    "from sklearn.linear_model import LinearRegression\n",
    "from sklearn.ensemble import RandomForestRegressor\n",
    "from sklearn.metrics import r2_score, mean_absolute_error, mean_squared_error, accuracy_score"
   ]
  },
  {
   "cell_type": "code",
   "execution_count": 16,
   "metadata": {},
   "outputs": [
    {
     "data": {
      "text/html": [
       "<div>\n",
       "<style scoped>\n",
       "    .dataframe tbody tr th:only-of-type {\n",
       "        vertical-align: middle;\n",
       "    }\n",
       "\n",
       "    .dataframe tbody tr th {\n",
       "        vertical-align: top;\n",
       "    }\n",
       "\n",
       "    .dataframe thead th {\n",
       "        text-align: right;\n",
       "    }\n",
       "</style>\n",
       "<table border=\"1\" class=\"dataframe\">\n",
       "  <thead>\n",
       "    <tr style=\"text-align: right;\">\n",
       "      <th></th>\n",
       "      <th>Make</th>\n",
       "      <th>Colour</th>\n",
       "      <th>Odometer (KM)</th>\n",
       "      <th>Doors</th>\n",
       "      <th>Price</th>\n",
       "    </tr>\n",
       "  </thead>\n",
       "  <tbody>\n",
       "    <tr>\n",
       "      <th>0</th>\n",
       "      <td>Honda</td>\n",
       "      <td>White</td>\n",
       "      <td>35431.0</td>\n",
       "      <td>4.0</td>\n",
       "      <td>15323.0</td>\n",
       "    </tr>\n",
       "    <tr>\n",
       "      <th>1</th>\n",
       "      <td>BMW</td>\n",
       "      <td>Blue</td>\n",
       "      <td>192714.0</td>\n",
       "      <td>5.0</td>\n",
       "      <td>19943.0</td>\n",
       "    </tr>\n",
       "    <tr>\n",
       "      <th>2</th>\n",
       "      <td>Honda</td>\n",
       "      <td>White</td>\n",
       "      <td>84714.0</td>\n",
       "      <td>4.0</td>\n",
       "      <td>28343.0</td>\n",
       "    </tr>\n",
       "    <tr>\n",
       "      <th>3</th>\n",
       "      <td>Toyota</td>\n",
       "      <td>White</td>\n",
       "      <td>154365.0</td>\n",
       "      <td>4.0</td>\n",
       "      <td>13434.0</td>\n",
       "    </tr>\n",
       "    <tr>\n",
       "      <th>4</th>\n",
       "      <td>Nissan</td>\n",
       "      <td>Blue</td>\n",
       "      <td>181577.0</td>\n",
       "      <td>3.0</td>\n",
       "      <td>14043.0</td>\n",
       "    </tr>\n",
       "  </tbody>\n",
       "</table>\n",
       "</div>"
      ],
      "text/plain": [
       "     Make Colour  Odometer (KM)  Doors    Price\n",
       "0   Honda  White        35431.0    4.0  15323.0\n",
       "1     BMW   Blue       192714.0    5.0  19943.0\n",
       "2   Honda  White        84714.0    4.0  28343.0\n",
       "3  Toyota  White       154365.0    4.0  13434.0\n",
       "4  Nissan   Blue       181577.0    3.0  14043.0"
      ]
     },
     "execution_count": 16,
     "metadata": {},
     "output_type": "execute_result"
    }
   ],
   "source": [
    "carsales = pd.read_csv(\"car-sales-extended-missing-data.csv\")\n",
    "carsales.head()"
   ]
  },
  {
   "cell_type": "code",
   "execution_count": 17,
   "metadata": {},
   "outputs": [
    {
     "name": "stdout",
     "output_type": "stream",
     "text": [
      "        Make Colour  Odometer (KM)  Doors    Price\n",
      "0      Honda  White        35431.0    4.0  15323.0\n",
      "1        BMW   Blue       192714.0    5.0  19943.0\n",
      "2      Honda  White        84714.0    4.0  28343.0\n",
      "3     Toyota  White       154365.0    4.0  13434.0\n",
      "4     Nissan   Blue       181577.0    3.0  14043.0\n",
      "..       ...    ...            ...    ...      ...\n",
      "995   Toyota  Black        35820.0    4.0  32042.0\n",
      "996  missing  White       155144.0    3.0   5716.0\n",
      "997   Nissan   Blue        66604.0    4.0  31570.0\n",
      "998    Honda  White       215883.0    4.0   4001.0\n",
      "999   Toyota   Blue       248360.0    4.0  12732.0\n",
      "\n",
      "[1000 rows x 5 columns]\n"
     ]
    },
    {
     "name": "stderr",
     "output_type": "stream",
     "text": [
      "C:\\Users\\user\\AppData\\Local\\Temp\\ipykernel_9432\\519155266.py:5: FutureWarning: A value is trying to be set on a copy of a DataFrame or Series through chained assignment using an inplace method.\n",
      "The behavior will change in pandas 3.0. This inplace method will never work because the intermediate object on which we are setting values always behaves as a copy.\n",
      "\n",
      "For example, when doing 'df[col].method(value, inplace=True)', try using 'df.method({col: value}, inplace=True)' or df[col] = df[col].method(value) instead, to perform the operation inplace on the original object.\n",
      "\n",
      "\n",
      "  carsales['Make'].fillna('missing', inplace=True)\n",
      "C:\\Users\\user\\AppData\\Local\\Temp\\ipykernel_9432\\519155266.py:6: FutureWarning: A value is trying to be set on a copy of a DataFrame or Series through chained assignment using an inplace method.\n",
      "The behavior will change in pandas 3.0. This inplace method will never work because the intermediate object on which we are setting values always behaves as a copy.\n",
      "\n",
      "For example, when doing 'df[col].method(value, inplace=True)', try using 'df.method({col: value}, inplace=True)' or df[col] = df[col].method(value) instead, to perform the operation inplace on the original object.\n",
      "\n",
      "\n",
      "  carsales['Colour'].fillna('missing', inplace=True)\n",
      "C:\\Users\\user\\AppData\\Local\\Temp\\ipykernel_9432\\519155266.py:10: FutureWarning: A value is trying to be set on a copy of a DataFrame or Series through chained assignment using an inplace method.\n",
      "The behavior will change in pandas 3.0. This inplace method will never work because the intermediate object on which we are setting values always behaves as a copy.\n",
      "\n",
      "For example, when doing 'df[col].method(value, inplace=True)', try using 'df.method({col: value}, inplace=True)' or df[col] = df[col].method(value) instead, to perform the operation inplace on the original object.\n",
      "\n",
      "\n",
      "  carsales['Doors'].fillna(4, inplace=True)\n",
      "C:\\Users\\user\\AppData\\Local\\Temp\\ipykernel_9432\\519155266.py:11: FutureWarning: A value is trying to be set on a copy of a DataFrame or Series through chained assignment using an inplace method.\n",
      "The behavior will change in pandas 3.0. This inplace method will never work because the intermediate object on which we are setting values always behaves as a copy.\n",
      "\n",
      "For example, when doing 'df[col].method(value, inplace=True)', try using 'df.method({col: value}, inplace=True)' or df[col] = df[col].method(value) instead, to perform the operation inplace on the original object.\n",
      "\n",
      "\n",
      "  carsales['Odometer (KM)'].fillna(carsales['Odometer (KM)'].mean(), inplace=True)\n"
     ]
    }
   ],
   "source": [
    "import pandas as pd\n",
    "\n",
    "# Assuming you have your DataFrame named 'carsales'\n",
    "# Fill missing values in the 'Make' column with a specific value, for example, 'Unknown'\n",
    "carsales['Make'].fillna('missing', inplace=True)\n",
    "carsales['Colour'].fillna('missing', inplace=True)\n",
    "\n",
    "# Fill missing values in the 'Doors' column with a specific value, for example, the most common value\n",
    "\n",
    "carsales['Doors'].fillna(4, inplace=True)\n",
    "carsales['Odometer (KM)'].fillna(carsales['Odometer (KM)'].mean(), inplace=True)\n",
    "\n",
    "# Show the DataFrame after filling missing values\n",
    "print(carsales)\n",
    "carsales.isna().sum()\n",
    "carsales.dropna(inplace=True)\n"
   ]
  },
  {
   "cell_type": "code",
   "execution_count": 22,
   "metadata": {},
   "outputs": [
    {
     "name": "stdout",
     "output_type": "stream",
     "text": [
      "Model trained successfully!\n",
      "Classifier metrics on the test set\n",
      "Regression metrics on the test set\n",
      "Mean Squared Error: 49658156.24656331\n"
     ]
    }
   ],
   "source": [
    "from sklearn.model_selection import train_test_split\n",
    "from sklearn.linear_model import LinearRegression\n",
    "from sklearn.preprocessing import OneHotEncoder\n",
    "from sklearn.compose import ColumnTransformer\n",
    "\n",
    "# Assuming carsales is your DataFrame\n",
    "np.random.seed(42)\n",
    "\n",
    "# Define features and target\n",
    "X = carsales.drop(\"Price\", axis=1)\n",
    "Y = carsales[\"Price\"]\n",
    "\n",
    "# Instantiate LinearRegression model\n",
    "model = LinearRegression()\n",
    "\n",
    "# Define features for OneHotEncoder\n",
    "features = [\"Make\", \"Colour\", \"Doors\"]\n",
    "\n",
    "# Instantiate OneHotEncoder\n",
    "onehot = OneHotEncoder()\n",
    "\n",
    "# Create ColumnTransformer\n",
    "transformer = ColumnTransformer([\n",
    "    (\"onehot\", onehot, features)\n",
    "], remainder=\"passthrough\")\n",
    "\n",
    "# Transform features\n",
    "transformed_x = transformer.fit_transform(X)\n",
    "\n",
    "# Split data into train and test sets\n",
    "X_train, X_test, Y_train, Y_test = train_test_split(transformed_x, Y)\n",
    "\n",
    "# Fit the model\n",
    "model.fit(X_train, Y_train)\n",
    "\n",
    "# Debug: Check if the model is trained\n",
    "print(\"Model trained successfully!\")\n",
    " \n",
    " \n",
    "y_preds = model.predict(X_test)\n",
    "\n",
    "print(\"Classifier metrics on the test set\")\n",
    "mse = mean_squared_error(Y_test, y_preds)\n",
    "print(\"Regression metrics on the test set\")\n",
    "print(f\"Mean Squared Error: {mse}\")\n",
    "\n",
    "f\"\""
   ]
  },
  {
   "cell_type": "code",
   "execution_count": null,
   "metadata": {},
   "outputs": [
    {
     "name": "stdout",
     "output_type": "stream",
     "text": [
      "Trying model with 10 estimators....\n",
      "Model accuracy on test set:13.609292233911974\n",
      "Trying model with 20 estimators....\n",
      "Model accuracy on test set:17.862055253150345\n",
      "Trying model with 30 estimators....\n",
      "Model accuracy on test set:23.74116485668306\n",
      "Trying model with 40 estimators....\n",
      "Model accuracy on test set:21.357786274461297\n",
      "Trying model with 50 estimators....\n",
      "Model accuracy on test set:21.0756223675455\n",
      "Trying model with 60 estimators....\n",
      "Model accuracy on test set:21.116936829599098\n",
      "Trying model with 70 estimators....\n",
      "Model accuracy on test set:20.683908872845148\n",
      "Trying model with 80 estimators....\n",
      "Model accuracy on test set:21.599235278667617\n",
      "Trying model with 90 estimators....\n",
      "Model accuracy on test set:20.165005000909964\n"
     ]
    }
   ],
   "source": [
    "X = carsales.drop(\"Price\", axis=1)\n",
    "Y = carsales[\"Price\"]\n",
    "model =  RandomForestRegressor()\n",
    "mode = RandomForestClassifier()\n",
    "\n",
    "from sklearn.preprocessing import OneHotEncoder\n",
    "from sklearn.compose import ColumnTransformer\n",
    "features = [\"Make\", \"Colour\", \"Doors\" ]\n",
    "onehot = OneHotEncoder()\n",
    "transformer = ColumnTransformer([(\"onehot\",\n",
    "                                  onehot,\n",
    "                                  features)],\n",
    "                                remainder = \"passthrough\")\n",
    "transformed_x = transformer.fit_transform(X)\n",
    "\n",
    "np.random.seed(42)\n",
    "X_train, X_test, Y_train, Y_test = train_test_split(transformed_x, Y)\n",
    "\n",
    "model.fit(X_train, Y_train)\n",
    "model.score(X_test, Y_test)\n",
    "\n",
    "np.random.seed(42)\n",
    "for i in range(10, 100, 10):\n",
    "    print(f\"Trying model with {i} estimators....\")\n",
    "    model = RandomForestRegressor(n_estimators=i).fit(X_train,Y_train)\n",
    "    print(f\"Model accuracy on test set:{model.score(X_test, Y_test)*100}\")\n",
    "\n",
    "\n",
    "\n"
   ]
  },
  {
   "cell_type": "code",
   "execution_count": null,
   "metadata": {},
   "outputs": [
    {
     "name": "stdout",
     "output_type": "stream",
     "text": [
      "Trying model with 10 estimators....\n",
      "Model accuracy on test set:0.0\n",
      "Trying model with 20 estimators....\n",
      "Model accuracy on test set:0.0\n",
      "Trying model with 30 estimators....\n",
      "Model accuracy on test set:0.0\n",
      "Trying model with 40 estimators....\n",
      "Model accuracy on test set:0.0\n",
      "Trying model with 50 estimators....\n",
      "Model accuracy on test set:0.0\n",
      "Trying model with 60 estimators....\n",
      "Model accuracy on test set:0.0\n",
      "Trying model with 70 estimators....\n",
      "Model accuracy on test set:0.0\n",
      "Trying model with 80 estimators....\n",
      "Model accuracy on test set:0.0\n",
      "Trying model with 90 estimators....\n",
      "Model accuracy on test set:0.0\n"
     ]
    }
   ],
   "source": [
    "mode.fit(X_train, Y_train)\n",
    "mode.score(X_test, Y_test)\n",
    "np.random.seed(42)\n",
    "for i in range(10, 100, 10):\n",
    "    print(f\"Trying model with {i} estimators....\")\n",
    "    clf = RandomForestClassifier(n_estimators=i).fit(X_train,Y_train)\n",
    "    print(f\"Model accuracy on test set:{mode.score(X_test, Y_test)*100}\")\n",
    "\n",
    "\n"
   ]
  },
  {
   "cell_type": "code",
   "execution_count": null,
   "metadata": {},
   "outputs": [
    {
     "data": {
      "text/plain": [
       "Make             47\n",
       "Colour           46\n",
       "Odometer (KM)    48\n",
       "Doors            47\n",
       "Price             0\n",
       "dtype: int64"
      ]
     },
     "execution_count": 8,
     "metadata": {},
     "output_type": "execute_result"
    }
   ],
   "source": [
    "df = pd.read_csv(\"car-sales-extended-missing-data.csv\")\n",
    "df.isna().sum()\n",
    "df.dropna(subset = [\"Price\"], inplace=True)\n",
    "df.isna().sum()"
   ]
  },
  {
   "cell_type": "code",
   "execution_count": null,
   "metadata": {},
   "outputs": [],
   "source": [
    "X = df.drop(\"Price\", axis=1)\n",
    "Y = df[\"Price\"]"
   ]
  },
  {
   "cell_type": "code",
   "execution_count": null,
   "metadata": {},
   "outputs": [],
   "source": [
    "from sklearn.impute import SimpleImputer\n",
    "from sklearn.compose import ColumnTransformer"
   ]
  },
  {
   "cell_type": "code",
   "execution_count": null,
   "metadata": {},
   "outputs": [],
   "source": [
    "cat_imputer = SimpleImputer(strategy=\"constant\", fill_value=\"missing\")\n",
    "door_imputer = SimpleImputer(strategy=\"constant\", fill_value= 4)\n",
    "num_imputer = SimpleImputer(strategy=\"mean\")\n"
   ]
  },
  {
   "cell_type": "code",
   "execution_count": null,
   "metadata": {},
   "outputs": [],
   "source": [
    "cat_features =[\"Make\", \"Colour\"] \n",
    "door_feature = [\"Doors\"]\n",
    "num_feature = [\"Odometer (KM)\"]\n"
   ]
  },
  {
   "cell_type": "code",
   "execution_count": null,
   "metadata": {},
   "outputs": [
    {
     "data": {
      "text/plain": [
       "array([['Honda', 'White', 4.0, 35431.0],\n",
       "       ['BMW', 'Blue', 5.0, 192714.0],\n",
       "       ['Honda', 'White', 4.0, 84714.0],\n",
       "       ...,\n",
       "       ['Nissan', 'Blue', 4.0, 66604.0],\n",
       "       ['Honda', 'White', 4.0, 215883.0],\n",
       "       ['Toyota', 'Blue', 4.0, 248360.0]], dtype=object)"
      ]
     },
     "execution_count": 13,
     "metadata": {},
     "output_type": "execute_result"
    }
   ],
   "source": [
    "imputer = ColumnTransformer([\n",
    "    (\"cat_imputer\", cat_imputer, cat_features),\n",
    "    (\"door_imputer\", door_imputer, door_feature),\n",
    "    (\"num_imputer\", num_imputer, num_feature)\n",
    "])\n",
    "\n",
    "Filled_X = imputer.fit_transform(X)\n",
    "Filled_X\n"
   ]
  },
  {
   "cell_type": "code",
   "execution_count": null,
   "metadata": {},
   "outputs": [
    {
     "ename": "NameError",
     "evalue": "name 'df_filled' is not defined",
     "output_type": "error",
     "traceback": [
      "\u001b[1;31m---------------------------------------------------------------------------\u001b[0m",
      "\u001b[1;31mNameError\u001b[0m                                 Traceback (most recent call last)",
      "Cell \u001b[1;32mIn[14], line 1\u001b[0m\n\u001b[1;32m----> 1\u001b[0m \u001b[43mdf_filled\u001b[49m\n",
      "\u001b[1;31mNameError\u001b[0m: name 'df_filled' is not defined"
     ]
    }
   ],
   "source": [
    "df_filled"
   ]
  },
  {
   "cell_type": "code",
   "execution_count": null,
   "metadata": {},
   "outputs": [
    {
     "data": {
      "text/html": [
       "<div>\n",
       "<style scoped>\n",
       "    .dataframe tbody tr th:only-of-type {\n",
       "        vertical-align: middle;\n",
       "    }\n",
       "\n",
       "    .dataframe tbody tr th {\n",
       "        vertical-align: top;\n",
       "    }\n",
       "\n",
       "    .dataframe thead th {\n",
       "        text-align: right;\n",
       "    }\n",
       "</style>\n",
       "<table border=\"1\" class=\"dataframe\">\n",
       "  <thead>\n",
       "    <tr style=\"text-align: right;\">\n",
       "      <th></th>\n",
       "      <th>Make</th>\n",
       "      <th>Colour</th>\n",
       "      <th>Odometer (KM)</th>\n",
       "      <th>Doors</th>\n",
       "    </tr>\n",
       "  </thead>\n",
       "  <tbody>\n",
       "    <tr>\n",
       "      <th>0</th>\n",
       "      <td>Honda</td>\n",
       "      <td>White</td>\n",
       "      <td>4.0</td>\n",
       "      <td>35431.0</td>\n",
       "    </tr>\n",
       "    <tr>\n",
       "      <th>1</th>\n",
       "      <td>BMW</td>\n",
       "      <td>Blue</td>\n",
       "      <td>5.0</td>\n",
       "      <td>192714.0</td>\n",
       "    </tr>\n",
       "    <tr>\n",
       "      <th>2</th>\n",
       "      <td>Honda</td>\n",
       "      <td>White</td>\n",
       "      <td>4.0</td>\n",
       "      <td>84714.0</td>\n",
       "    </tr>\n",
       "    <tr>\n",
       "      <th>3</th>\n",
       "      <td>Toyota</td>\n",
       "      <td>White</td>\n",
       "      <td>4.0</td>\n",
       "      <td>154365.0</td>\n",
       "    </tr>\n",
       "    <tr>\n",
       "      <th>4</th>\n",
       "      <td>Nissan</td>\n",
       "      <td>Blue</td>\n",
       "      <td>3.0</td>\n",
       "      <td>181577.0</td>\n",
       "    </tr>\n",
       "    <tr>\n",
       "      <th>...</th>\n",
       "      <td>...</td>\n",
       "      <td>...</td>\n",
       "      <td>...</td>\n",
       "      <td>...</td>\n",
       "    </tr>\n",
       "    <tr>\n",
       "      <th>945</th>\n",
       "      <td>Toyota</td>\n",
       "      <td>Black</td>\n",
       "      <td>4.0</td>\n",
       "      <td>35820.0</td>\n",
       "    </tr>\n",
       "    <tr>\n",
       "      <th>946</th>\n",
       "      <td>missing</td>\n",
       "      <td>White</td>\n",
       "      <td>3.0</td>\n",
       "      <td>155144.0</td>\n",
       "    </tr>\n",
       "    <tr>\n",
       "      <th>947</th>\n",
       "      <td>Nissan</td>\n",
       "      <td>Blue</td>\n",
       "      <td>4.0</td>\n",
       "      <td>66604.0</td>\n",
       "    </tr>\n",
       "    <tr>\n",
       "      <th>948</th>\n",
       "      <td>Honda</td>\n",
       "      <td>White</td>\n",
       "      <td>4.0</td>\n",
       "      <td>215883.0</td>\n",
       "    </tr>\n",
       "    <tr>\n",
       "      <th>949</th>\n",
       "      <td>Toyota</td>\n",
       "      <td>Blue</td>\n",
       "      <td>4.0</td>\n",
       "      <td>248360.0</td>\n",
       "    </tr>\n",
       "  </tbody>\n",
       "</table>\n",
       "<p>950 rows × 4 columns</p>\n",
       "</div>"
      ],
      "text/plain": [
       "        Make Colour Odometer (KM)     Doors\n",
       "0      Honda  White           4.0   35431.0\n",
       "1        BMW   Blue           5.0  192714.0\n",
       "2      Honda  White           4.0   84714.0\n",
       "3     Toyota  White           4.0  154365.0\n",
       "4     Nissan   Blue           3.0  181577.0\n",
       "..       ...    ...           ...       ...\n",
       "945   Toyota  Black           4.0   35820.0\n",
       "946  missing  White           3.0  155144.0\n",
       "947   Nissan   Blue           4.0   66604.0\n",
       "948    Honda  White           4.0  215883.0\n",
       "949   Toyota   Blue           4.0  248360.0\n",
       "\n",
       "[950 rows x 4 columns]"
      ]
     },
     "execution_count": 112,
     "metadata": {},
     "output_type": "execute_result"
    }
   ],
   "source": [
    "df_filled = pd.DataFrame(Filled_X,\n",
    "                         columns = [\"Make\",\"Colour\", \"Odometer (KM)\", \"Doors\" ])\n",
    "df_filled.isna().sum()\n",
    "df_filled"
   ]
  },
  {
   "cell_type": "code",
   "execution_count": null,
   "metadata": {},
   "outputs": [
    {
     "data": {
      "text/html": [
       "<div>\n",
       "<style scoped>\n",
       "    .dataframe tbody tr th:only-of-type {\n",
       "        vertical-align: middle;\n",
       "    }\n",
       "\n",
       "    .dataframe tbody tr th {\n",
       "        vertical-align: top;\n",
       "    }\n",
       "\n",
       "    .dataframe thead th {\n",
       "        text-align: right;\n",
       "    }\n",
       "</style>\n",
       "<table border=\"1\" class=\"dataframe\">\n",
       "  <thead>\n",
       "    <tr style=\"text-align: right;\">\n",
       "      <th></th>\n",
       "      <th>Make</th>\n",
       "      <th>Colour</th>\n",
       "      <th>Odometer (KM)</th>\n",
       "      <th>Doors</th>\n",
       "    </tr>\n",
       "  </thead>\n",
       "  <tbody>\n",
       "    <tr>\n",
       "      <th>0</th>\n",
       "      <td>Honda</td>\n",
       "      <td>White</td>\n",
       "      <td>4.0</td>\n",
       "      <td>35431</td>\n",
       "    </tr>\n",
       "    <tr>\n",
       "      <th>1</th>\n",
       "      <td>BMW</td>\n",
       "      <td>Blue</td>\n",
       "      <td>5.0</td>\n",
       "      <td>192714</td>\n",
       "    </tr>\n",
       "    <tr>\n",
       "      <th>2</th>\n",
       "      <td>Honda</td>\n",
       "      <td>White</td>\n",
       "      <td>4.0</td>\n",
       "      <td>84714</td>\n",
       "    </tr>\n",
       "    <tr>\n",
       "      <th>3</th>\n",
       "      <td>Toyota</td>\n",
       "      <td>White</td>\n",
       "      <td>4.0</td>\n",
       "      <td>154365</td>\n",
       "    </tr>\n",
       "    <tr>\n",
       "      <th>4</th>\n",
       "      <td>Nissan</td>\n",
       "      <td>Blue</td>\n",
       "      <td>3.0</td>\n",
       "      <td>181577</td>\n",
       "    </tr>\n",
       "    <tr>\n",
       "      <th>...</th>\n",
       "      <td>...</td>\n",
       "      <td>...</td>\n",
       "      <td>...</td>\n",
       "      <td>...</td>\n",
       "    </tr>\n",
       "    <tr>\n",
       "      <th>945</th>\n",
       "      <td>Toyota</td>\n",
       "      <td>Black</td>\n",
       "      <td>4.0</td>\n",
       "      <td>35820</td>\n",
       "    </tr>\n",
       "    <tr>\n",
       "      <th>946</th>\n",
       "      <td>missing</td>\n",
       "      <td>White</td>\n",
       "      <td>3.0</td>\n",
       "      <td>155144</td>\n",
       "    </tr>\n",
       "    <tr>\n",
       "      <th>947</th>\n",
       "      <td>Nissan</td>\n",
       "      <td>Blue</td>\n",
       "      <td>4.0</td>\n",
       "      <td>66604</td>\n",
       "    </tr>\n",
       "    <tr>\n",
       "      <th>948</th>\n",
       "      <td>Honda</td>\n",
       "      <td>White</td>\n",
       "      <td>4.0</td>\n",
       "      <td>215883</td>\n",
       "    </tr>\n",
       "    <tr>\n",
       "      <th>949</th>\n",
       "      <td>Toyota</td>\n",
       "      <td>Blue</td>\n",
       "      <td>4.0</td>\n",
       "      <td>248360</td>\n",
       "    </tr>\n",
       "  </tbody>\n",
       "</table>\n",
       "<p>950 rows × 4 columns</p>\n",
       "</div>"
      ],
      "text/plain": [
       "        Make Colour Odometer (KM)   Doors\n",
       "0      Honda  White           4.0   35431\n",
       "1        BMW   Blue           5.0  192714\n",
       "2      Honda  White           4.0   84714\n",
       "3     Toyota  White           4.0  154365\n",
       "4     Nissan   Blue           3.0  181577\n",
       "..       ...    ...           ...     ...\n",
       "945   Toyota  Black           4.0   35820\n",
       "946  missing  White           3.0  155144\n",
       "947   Nissan   Blue           4.0   66604\n",
       "948    Honda  White           4.0  215883\n",
       "949   Toyota   Blue           4.0  248360\n",
       "\n",
       "[950 rows x 4 columns]"
      ]
     },
     "execution_count": 113,
     "metadata": {},
     "output_type": "execute_result"
    }
   ],
   "source": [
    "df_filled[\"Doors\"] = df_filled[\"Doors\"].astype(float).astype(int)\n",
    "df_filled.isna().sum()\n",
    "df_filled"
   ]
  },
  {
   "cell_type": "code",
   "execution_count": null,
   "metadata": {},
   "outputs": [
    {
     "data": {
      "text/plain": [
       "<950x913 sparse matrix of type '<class 'numpy.float64'>'\n",
       "\twith 3800 stored elements in Compressed Sparse Row format>"
      ]
     },
     "execution_count": 114,
     "metadata": {},
     "output_type": "execute_result"
    }
   ],
   "source": [
    "model =  RandomForestRegressor()\n",
    "mode = RandomForestClassifier()\n",
    "\n",
    "from sklearn.preprocessing import OneHotEncoder\n",
    "from sklearn.compose import ColumnTransformer\n",
    "features = [\"Make\", \"Colour\", \"Doors\" ]\n",
    "onehot = OneHotEncoder()\n",
    "transformer = ColumnTransformer([(\"onehot\",\n",
    "                                  onehot,\n",
    "                                  features)],\n",
    "                                remainder = \"passthrough\")\n",
    "transformed_x = transformer.fit_transform(df_filled)\n",
    "transformed_x\n",
    "\n",
    "                 \n"
   ]
  },
  {
   "cell_type": "markdown",
   "metadata": {},
   "source": []
  },
  {
   "cell_type": "code",
   "execution_count": null,
   "metadata": {},
   "outputs": [
    {
     "name": "stdout",
     "output_type": "stream",
     "text": [
      "Trying model with 10 estimators....\n",
      "Model accuracy on test set:-8.360430331641467\n",
      "Trying model with 20 estimators....\n",
      "Model accuracy on test set:-4.667100395533175\n",
      "Trying model with 30 estimators....\n",
      "Model accuracy on test set:-2.1129153950268487\n",
      "Trying model with 40 estimators....\n",
      "Model accuracy on test set:-7.820929654542175\n",
      "Trying model with 50 estimators....\n",
      "Model accuracy on test set:-2.8608582194723953\n",
      "Trying model with 60 estimators....\n",
      "Model accuracy on test set:-5.019546891634485\n",
      "Trying model with 70 estimators....\n",
      "Model accuracy on test set:-4.541251443572092\n",
      "Trying model with 80 estimators....\n",
      "Model accuracy on test set:-3.0192818135985178\n",
      "Trying model with 90 estimators....\n",
      "Model accuracy on test set:-3.409850338755005\n",
      "Trying model with 100 estimators....\n",
      "Model accuracy on test set:-4.954006950841516\n"
     ]
    }
   ],
   "source": [
    "np.random.seed(42)\n",
    "X_train, X_test, Y_train, Y_test = train_test_split(transformed_x, Y, test_size= 0.2)\n",
    "\n",
    "model.fit(X_train, Y_train)\n",
    "model.score(X_test, Y_test)\n",
    "\n",
    "np.random.seed(42)\n",
    "for i in range(10, 110, 10):\n",
    "    print(f\"Trying model with {i} estimators....\")\n",
    "    model = RandomForestRegressor(n_estimators=i).fit(X_train,Y_train)\n",
    "    print(f\"Model accuracy on test set:{model.score(X_test, Y_test)*100}\")\n"
   ]
  },
  {
   "cell_type": "code",
   "execution_count": null,
   "metadata": {},
   "outputs": [
    {
     "name": "stdout",
     "output_type": "stream",
     "text": [
      "Trying model with 10 estimators....\n",
      "Model accuracy on test set:0.0\n",
      "Trying model with 20 estimators....\n",
      "Model accuracy on test set:0.0\n",
      "Trying model with 30 estimators....\n",
      "Model accuracy on test set:0.0\n",
      "Trying model with 40 estimators....\n",
      "Model accuracy on test set:0.0\n",
      "Trying model with 50 estimators....\n",
      "Model accuracy on test set:0.0\n",
      "Trying model with 60 estimators....\n",
      "Model accuracy on test set:0.0\n",
      "Trying model with 70 estimators....\n",
      "Model accuracy on test set:0.0\n",
      "Trying model with 80 estimators....\n",
      "Model accuracy on test set:0.0\n",
      "Trying model with 90 estimators....\n",
      "Model accuracy on test set:0.0\n",
      "Trying model with 100 estimators....\n",
      "Model accuracy on test set:0.0\n"
     ]
    }
   ],
   "source": [
    "mode.fit(X_train, Y_train)\n",
    "mode.score(X_test, Y_test)\n",
    "\n",
    "np.random.seed(42)\n",
    "for i in range(10, 110, 10):\n",
    "    print(f\"Trying model with {i} estimators....\")\n",
    "    mode = RandomForestClassifier(n_estimators=i).fit(X_train,Y_train)\n",
    "    print(f\"Model accuracy on test set:{mode.score(X_test, Y_test)*100}\")\n"
   ]
  }
 ],
 "metadata": {
  "kernelspec": {
   "display_name": "nzai",
   "language": "python",
   "name": "python3"
  },
  "language_info": {
   "codemirror_mode": {
    "name": "ipython",
    "version": 3
   },
   "file_extension": ".py",
   "mimetype": "text/x-python",
   "name": "python",
   "nbconvert_exporter": "python",
   "pygments_lexer": "ipython3",
   "version": "3.12.2"
  }
 },
 "nbformat": 4,
 "nbformat_minor": 2
}
